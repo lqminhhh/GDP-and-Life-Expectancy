{
 "cells": [
  {
   "attachments": {},
   "cell_type": "markdown",
   "metadata": {},
   "source": [
    "# <b> Deliverable #3: Data Storage and Analysis </b>\n",
    "#### Minh Le\n",
    "#### CS 181/DA 210\n",
    "#### Dr. Amert\n",
    "#### April 21th, 2023\n",
    "---\n",
    "\n",
    "---"
   ]
  },
  {
   "attachments": {},
   "cell_type": "markdown",
   "metadata": {},
   "source": [
    "#### Import Packages"
   ]
  },
  {
   "cell_type": "code",
   "execution_count": 1,
   "metadata": {},
   "outputs": [],
   "source": [
    "import pandas as pd\n",
    "import os\n",
    "import os.path\n",
    "import json\n",
    "import sqlalchemy as sa\n",
    "import matplotlib.pyplot as pyplot\n",
    "import plotly.express as px\n"
   ]
  },
  {
   "attachments": {},
   "cell_type": "markdown",
   "metadata": {},
   "source": [
    "#### Set Credentials"
   ]
  },
  {
   "cell_type": "code",
   "execution_count": 2,
   "metadata": {},
   "outputs": [],
   "source": [
    "def getsqlite_creds(dirname=\".\",filename=\"creds.json\",source=\"sqlite\"):\n",
    "    \"\"\" Using directory and filename parameters, open a credentials file\n",
    "        and obtain the two parts needed for a connection string to\n",
    "        a local provider using the \"sqlite\" dictionary within\n",
    "        an outer dictionary.  \n",
    "        \n",
    "        Return a scheme and a dbfile\n",
    "    \"\"\"\n",
    "    assert os.path.isfile(os.path.join(dirname, filename))\n",
    "    with open(os.path.join(dirname, filename)) as f:\n",
    "        D = json.load(f)\n",
    "    sqlite = D[source]\n",
    "    return sqlite[\"scheme\"], sqlite[\"dbdir\"], sqlite[\"database\"]"
   ]
  },
  {
   "cell_type": "code",
   "execution_count": 3,
   "metadata": {},
   "outputs": [],
   "source": [
    "def buildConnectionString(source=\"sqlite_country\"):\n",
    "    scheme, dbdir, database = getsqlite_creds(source=source)\n",
    "    template = '{}:///{}/{}.db'\n",
    "    return template.format(scheme, dbdir, database)"
   ]
  },
  {
   "attachments": {},
   "cell_type": "markdown",
   "metadata": {},
   "source": [
    "---\n",
    "## <b> Part 1: Database Summary </b>\n",
    "In our database, we have one table named `indicators`. The primary key of this table is `country_and_area`, which is a singleton key. The functional dependecy is `country_and_area -> region, gdp_per_capita, life`.\n",
    "\n",
    "---\n",
    "## <b> Part 2: Data Analysis </b>\n",
    "\n",
    "After we have stored our tables in the database, we will now analyze the data to answer our central question: _Does GDP per capita have a relationship with the life expectancy of countries in the world?_."
   ]
  },
  {
   "cell_type": "code",
   "execution_count": 4,
   "metadata": {},
   "outputs": [
    {
     "name": "stdout",
     "output_type": "stream",
     "text": [
      "Connection string: sqlite:///./country.db\n"
     ]
    }
   ],
   "source": [
    "cstring = buildConnectionString(\"sqlite_country\")\n",
    "print(\"Connection string:\", cstring)\n",
    "engine = sa.create_engine(cstring)\n",
    "connection = engine.connect()"
   ]
  },
  {
   "attachments": {},
   "cell_type": "markdown",
   "metadata": {},
   "source": [
    "We will now perform query to see the relationship between GDP per capita and life expectancy. First of all, we will create a scatter plot with a regression line to see the connection."
   ]
  },
  {
   "cell_type": "code",
   "execution_count": 5,
   "metadata": {},
   "outputs": [
    {
     "data": {
      "text/html": [
       "<div>\n",
       "<style scoped>\n",
       "    .dataframe tbody tr th:only-of-type {\n",
       "        vertical-align: middle;\n",
       "    }\n",
       "\n",
       "    .dataframe tbody tr th {\n",
       "        vertical-align: top;\n",
       "    }\n",
       "\n",
       "    .dataframe thead th {\n",
       "        text-align: right;\n",
       "    }\n",
       "</style>\n",
       "<table border=\"1\" class=\"dataframe\">\n",
       "  <thead>\n",
       "    <tr style=\"text-align: right;\">\n",
       "      <th></th>\n",
       "      <th>country_and_area</th>\n",
       "      <th>region</th>\n",
       "      <th>gdp_per_capita</th>\n",
       "      <th>life</th>\n",
       "    </tr>\n",
       "  </thead>\n",
       "  <tbody>\n",
       "    <tr>\n",
       "      <th>0</th>\n",
       "      <td>Aruba</td>\n",
       "      <td>Latin America &amp; Caribbean</td>\n",
       "      <td>29342.100858</td>\n",
       "      <td>74.6</td>\n",
       "    </tr>\n",
       "    <tr>\n",
       "      <th>1</th>\n",
       "      <td>Afghanistan</td>\n",
       "      <td>South Asia</td>\n",
       "      <td>368.754614</td>\n",
       "      <td>62.0</td>\n",
       "    </tr>\n",
       "    <tr>\n",
       "      <th>2</th>\n",
       "      <td>Angola</td>\n",
       "      <td>Sub-Saharan Africa</td>\n",
       "      <td>1953.533757</td>\n",
       "      <td>61.6</td>\n",
       "    </tr>\n",
       "    <tr>\n",
       "      <th>3</th>\n",
       "      <td>Albania</td>\n",
       "      <td>Europe &amp; Central Asia</td>\n",
       "      <td>6492.872012</td>\n",
       "      <td>76.5</td>\n",
       "    </tr>\n",
       "    <tr>\n",
       "      <th>4</th>\n",
       "      <td>Andorra</td>\n",
       "      <td>Europe &amp; Central Asia</td>\n",
       "      <td>42137.327271</td>\n",
       "      <td>80.4</td>\n",
       "    </tr>\n",
       "  </tbody>\n",
       "</table>\n",
       "</div>"
      ],
      "text/plain": [
       "  country_and_area                     region  gdp_per_capita  life\n",
       "0            Aruba  Latin America & Caribbean    29342.100858  74.6\n",
       "1      Afghanistan                 South Asia      368.754614  62.0\n",
       "2           Angola         Sub-Saharan Africa     1953.533757  61.6\n",
       "3          Albania      Europe & Central Asia     6492.872012  76.5\n",
       "4          Andorra      Europe & Central Asia    42137.327271  80.4"
      ]
     },
     "execution_count": 5,
     "metadata": {},
     "output_type": "execute_result"
    }
   ],
   "source": [
    "#select all the table\n",
    "query1 = \"\"\"\n",
    "SELECT *\n",
    "FROM indicators\n",
    "\"\"\"\n",
    "\n",
    "df1 = pd.read_sql_query(query1, con=connection)\n",
    "df1.head()"
   ]
  },
  {
   "cell_type": "code",
   "execution_count": 6,
   "metadata": {},
   "outputs": [],
   "source": [
    "def create_graph(data):\n",
    "    \"\"\"\n",
    "    Creates a plot showing the relationship between\n",
    "    GDP Per Capita and Life Expectancy\n",
    "    \"\"\"\n",
    "    fig = px.scatter(data, x=\"gdp_per_capita\", y = \"life\", \n",
    "                    title=\"Relationship between GDP Per Capita and Life Expectancy\", \n",
    "                    hover_name='country_and_area', size_max=20, trendline='ols', trendline_color_override=\"red\")\n",
    "    fig.show()"
   ]
  },
  {
   "cell_type": "code",
   "execution_count": 7,
   "metadata": {},
   "outputs": [
    {
     "data": {
      "application/vnd.plotly.v1+json": {
       "config": {
        "plotlyServerURL": "https://plot.ly"
       },
       "data": [
        {
         "hovertemplate": "<b>%{hovertext}</b><br><br>gdp_per_capita=%{x}<br>life=%{y}<extra></extra>",
         "hovertext": [
          "Aruba",
          "Afghanistan",
          "Angola",
          "Albania",
          "Andorra",
          "United Arab Emirates",
          "Argentina",
          "Armenia",
          "American Samoa",
          "Antigua and Barbuda",
          "Australia",
          "Austria",
          "Azerbaijan",
          "Burundi",
          "Belgium",
          "Benin",
          "Burkina Faso",
          "Bangladesh",
          "Bulgaria",
          "Bahrain",
          "Bahamas",
          "Bosnia and Herzegovina",
          "Belarus",
          "Belize",
          "Bermuda",
          "Bolivia",
          "Brazil",
          "Barbados",
          "Brunei",
          "Bhutan",
          "Botswana",
          "Central African Republic",
          "Canada",
          "Switzerland",
          "Channel Islands",
          "Chile",
          "China",
          "Côte d'Ivoire",
          "Cameroon",
          "Democratic Republic of Congo",
          "Congo",
          "Colombia",
          "Comoros",
          "Cabo Verde",
          "Costa Rica",
          "Cuba",
          "Curacao",
          "Cayman Islands",
          "Cyprus",
          "Czech Republic",
          "Germany",
          "Djibouti",
          "Dominica",
          "Denmark",
          "Dominican Republic",
          "Algeria",
          "Ecuador",
          "Egypt",
          "Eritrea",
          "Spain",
          "Estonia",
          "Ethiopia",
          "Finland",
          "Fiji",
          "France",
          "Faroe Islands",
          "Micronesia",
          "Gabon",
          "United Kingdom",
          "Georgia",
          "Ghana",
          "Gibraltar",
          "Guinea",
          "Gambia",
          "Guinea-Bissau",
          "Equatorial Guinea",
          "Greece",
          "Grenada",
          "Greenland",
          "Guatemala",
          "Guam",
          "Guyana",
          "Hong Kong",
          "Honduras",
          "Croatia",
          "Haiti",
          "Hungary",
          "Indonesia",
          "Isle of Man",
          "India",
          "Ireland",
          "Iran",
          "Iraq",
          "Iceland",
          "Israel",
          "Italy",
          "Jamaica",
          "Jordan",
          "Japan",
          "Kazakhstan",
          "Kenya",
          "Kyrgyzstan",
          "Cambodia",
          "Kiribati",
          "Saint Kitts and Nevis",
          "South Korea",
          "Kuwait",
          "Laos",
          "Lebanon",
          "Liberia",
          "Libya",
          "Saint Lucia",
          "Liechtenstein",
          "Sri Lanka",
          "Lesotho",
          "Lithuania",
          "Luxembourg",
          "Latvia",
          "Macau",
          "Saint Martin (French part)",
          "Morocco",
          "Monaco",
          "Moldova",
          "Madagascar",
          "Maldives",
          "Mexico",
          "Marshall Islands",
          "North Macedonia",
          "Mali",
          "Malta",
          "Myanmar",
          "Montenegro",
          "Mongolia",
          "Northern Mariana Islands",
          "Mozambique",
          "Mauritania",
          "Mauritius",
          "Malawi",
          "Malaysia",
          "Namibia",
          "New Caledonia",
          "Niger",
          "Nigeria",
          "Nicaragua",
          "Netherlands",
          "Norway",
          "Nepal",
          "Nauru",
          "New Zealand",
          "Oman",
          "Pakistan",
          "Panama",
          "Peru",
          "Philippines",
          "Palau",
          "Papua New Guinea",
          "Poland",
          "Puerto Rico",
          "North Korea",
          "Portugal",
          "Paraguay",
          "West Bank and Gaza",
          "French Polynesia",
          "Qatar",
          "Romania",
          "Russia",
          "Rwanda",
          "Saudi Arabia",
          "Sudan",
          "Senegal",
          "Singapore",
          "Solomon Islands",
          "Sierra Leone",
          "El Salvador",
          "San Marino",
          "Somalia",
          "Serbia",
          "South Sudan",
          "Sao Tome and Principe",
          "Suriname",
          "Slovak Republic",
          "Slovenia",
          "Sweden",
          "Eswatini",
          "Sint Maarten (Dutch part)",
          "Seychelles",
          "Syria",
          "Turks and Caicos Islands",
          "Chad",
          "Togo",
          "Thailand",
          "Tajikistan",
          "Turkmenistan",
          "Timor",
          "Tonga",
          "Trinidad and Tobago",
          "Tunisia",
          "Turkey",
          "Tuvalu",
          "Tanzania",
          "Uganda",
          "Ukraine",
          "Uruguay",
          "United States",
          "Uzbekistan",
          "Saint Vincent and the Grenadines",
          "Venezuela",
          "British Virgin Islands",
          "Virgin Islands",
          "Vietnam",
          "Vanuatu",
          "Samoa",
          "Kosovo",
          "Yemen",
          "South Africa",
          "Zambia",
          "Zimbabwe"
         ],
         "legendgroup": "",
         "marker": {
          "color": "#636efa",
          "symbol": "circle"
         },
         "mode": "markers",
         "name": "",
         "orientation": "v",
         "showlegend": false,
         "type": "scatter",
         "x": [
          29342.1008575886,
          368.754614175459,
          1953.53375721508,
          6492.87201224634,
          42137.3272710372,
          44315.5541834116,
          10636.1201956183,
          4966.51347122366,
          15743.3107582991,
          15781.3957017982,
          60443.1091649968,
          53637.7057109897,
          5387.99797495383,
          221.477676223363,
          51247.0143531626,
          1319.1549945174,
          893.077155776863,
          2457.92487986361,
          12221.4966064171,
          26562.9691354026,
          null,
          7143.3105484321,
          7302.25779418774,
          6228.26730928353,
          114090.328338579,
          3345.19658873831,
          7507.16097080234,
          17225.4623044097,
          null,
          3266.36490519183,
          6805.22127398897,
          461.137490166508,
          51987.9390529728,
          91991.6004583563,
          null,
          16265.0959767147,
          12556.3331200058,
          null,
          1666.93273443122,
          null,
          null,
          6104.1367093039,
          1577.47102705052,
          null,
          12472.4437294954,
          null,
          17717.5964802588,
          86568.7696368603,
          31551.81640625,
          null,
          51203.5544731043,
          3150.43672926335,
          7653.17187042868,
          68007.7566732954,
          8476.75215730978,
          3690.62787797599,
          5965.13287054416,
          null,
          null,
          30103.513733191,
          27943.701219882,
          925.077428048534,
          53654.7502964259,
          4646.6127232145,
          43658.9789781222,
          69010.3098011151,
          null,
          8635.32569443437,
          46510.2827819127,
          5023.27437961979,
          2363.29929621422,
          null,
          1189.17599946631,
          null,
          795.118569260485,
          7506.66752306086,
          20192.5963039061,
          9010.57224466261,
          null,
          5025.5422907779,
          35904.8635462723,
          9998.54431136155,
          49800.5424137576,
          2771.71746050946,
          17685.3252834553,
          1829.59304417211,
          18728.1218948689,
          4332.70928089396,
          null,
          2256.59040870506,
          100172.079253421,
          4091.20918670534,
          4775.3774539013,
          68727.636664709,
          52170.7118623335,
          35657.4975631691,
          5183.58130458676,
          4103.25896599583,
          39312.6603730693,
          10373.7897924367,
          2081.79985458438,
          null,
          1625.23501955454,
          1606.46251377314,
          18082.6101907478,
          null,
          null,
          null,
          4136.14634699332,
          675.66318584916,
          6357.19555043805,
          null,
          null,
          4013.68765683604,
          1094.09818489303,
          23723.3402510345,
          133590.146975586,
          21148.1629405415,
          null,
          null,
          3795.38012695313,
          234315.460503547,
          5230.66173289497,
          500.511031950657,
          10366.2933584066,
          10045.6805004963,
          6172.14506539834,
          6694.64112581709,
          873.794862375503,
          33486.671983855,
          1209.92694225482,
          9465.70399879557,
          4566.14015433014,
          null,
          491.839112773674,
          2166.04679858214,
          9106.23720230699,
          634.835660105302,
          11109.2618387745,
          4865.55776470864,
          37159.5467662165,
          590.629454795899,
          2065.74906750923,
          2045.53540189014,
          57767.8788108173,
          89154.2760934922,
          1208.21853383767,
          10648.1413901852,
          48781.0266328884,
          19509.4664633867,
          1505.01019279429,
          14617.6044816372,
          6621.57433601881,
          3460.53096344408,
          12083.8881491345,
          2672.94579035518,
          17999.9099495446,
          32640.710335631,
          null,
          24567.5092651,
          5891.49996504641,
          null,
          19914.6035133645,
          66838.357433014,
          14858.2294290445,
          null,
          822.3479885942,
          23185.8707917797,
          751.821350097656,
          1636.89320864296,
          72794.0030226738,
          2304.84456746354,
          480.039211301066,
          4551.18466141298,
          null,
          446.981559635259,
          9230.17831602601,
          null,
          2360.54355385897,
          4869.13422621242,
          null,
          29291.4006234431,
          61028.7380600287,
          3978.4035281759,
          null,
          14653.3093943039,
          null,
          20908.5827016004,
          685.690284124456,
          973.206129076133,
          7066.19054595323,
          897.047510293411,
          null,
          null,
          4426.00063706281,
          16032.5027680992,
          3807.13915027254,
          9661.23597511355,
          5632.00299343641,
          1099.28759765625,
          883.892032311279,
          4835.57177734375,
          17313.1883484186,
          70248.6290002242,
          1983.06472288992,
          null,
          null,
          null,
          null,
          3756.48912117326,
          2996.62106154483,
          3857.31846401804,
          5269.78390114389,
          null,
          7055.04477598783,
          1137.34363269164,
          1773.92041088078
         ],
         "xaxis": "x",
         "y": [
          74.6,
          62,
          61.6,
          76.5,
          80.4,
          78.7,
          75.4,
          72,
          72.5,
          78.5,
          84.5,
          81.6,
          69.4,
          61.7,
          81.9,
          59.8,
          59.3,
          72.4,
          71.8,
          78.8,
          71.6,
          75.3,
          72.4,
          70.5,
          79.3,
          63.6,
          72.8,
          77.6,
          74.6,
          71.8,
          61.1,
          53.9,
          82.7,
          84,
          null,
          78.9,
          78.2,
          null,
          60.3,
          59.2,
          63.5,
          72.8,
          63.4,
          null,
          77,
          73.7,
          75.4,
          75.1,
          81.2,
          77.7,
          80.6,
          62.3,
          72.8,
          81.4,
          72.6,
          76.4,
          73.7,
          70.2,
          66.5,
          83,
          77.1,
          65,
          82,
          67.1,
          82.5,
          79.3,
          70.7,
          65.8,
          80.7,
          71.7,
          63.8,
          79.3,
          58.9,
          62.1,
          59.7,
          60.6,
          80.1,
          74.9,
          72.4,
          69.2,
          76.7,
          65.7,
          85.5,
          70.1,
          77.6,
          63.2,
          74.5,
          67.6,
          80.5,
          67.2,
          82,
          73.9,
          70.4,
          82.7,
          82.3,
          84,
          70.5,
          74.3,
          84.8,
          69.4,
          61.4,
          70,
          69.6,
          67.4,
          71.7,
          83.7,
          78.7,
          68.1,
          75,
          60.7,
          71.9,
          71.1,
          83.3,
          76.4,
          53.1,
          73.7,
          82.6,
          73.6,
          85.4,
          80.4,
          74,
          85.9,
          68.8,
          64.5,
          79.9,
          70.2,
          65.3,
          73.8,
          58.9,
          83.8,
          65.7,
          76.3,
          71,
          77.2,
          59.3,
          64.4,
          73.6,
          62.9,
          74.9,
          59.3,
          79,
          61.6,
          52.7,
          73.8,
          81.7,
          83.2,
          68.4,
          63.6,
          82.5,
          72.5,
          66.1,
          76.2,
          72.4,
          69.3,
          66,
          65.4,
          76.5,
          80.2,
          73.3,
          81,
          70.3,
          null,
          79.5,
          79.3,
          74.2,
          69.4,
          66.1,
          76.9,
          65.3,
          67.1,
          82.8,
          70.3,
          60.1,
          70.7,
          80.9,
          55.3,
          74.2,
          55,
          67.6,
          70.3,
          null,
          80.7,
          83,
          57.1,
          74,
          71.3,
          72.1,
          74.6,
          52.5,
          61.6,
          78.7,
          71.6,
          69.3,
          67.7,
          71,
          73,
          73.8,
          76,
          64.5,
          66.2,
          62.7,
          71.6,
          75.4,
          77.2,
          70.9,
          69.6,
          70.6,
          74.5,
          null,
          73.6,
          70.4,
          72.8,
          76.8,
          63.8,
          62.3,
          61.2,
          59.3
         ],
         "yaxis": "y"
        },
        {
         "hovertemplate": "<b>OLS trendline</b><br>life = 0.000167009 * gdp_per_capita + 68.6396<br>R<sup>2</sup>=0.389444<br><br>gdp_per_capita=%{x}<br>life=%{y} <b>(trend)</b><extra></extra>",
         "legendgroup": "",
         "line": {
          "color": "red"
         },
         "marker": {
          "color": "#636efa",
          "symbol": "circle"
         },
         "mode": "lines",
         "name": "",
         "showlegend": false,
         "type": "scatter",
         "x": [
          221.477676223363,
          368.754614175459,
          446.981559635259,
          461.137490166508,
          480.039211301066,
          491.839112773674,
          500.511031950657,
          590.629454795899,
          634.835660105302,
          675.66318584916,
          685.690284124456,
          751.821350097656,
          795.118569260485,
          822.3479885942,
          873.794862375503,
          883.892032311279,
          893.077155776863,
          897.047510293411,
          925.077428048534,
          973.206129076133,
          1094.09818489303,
          1099.28759765625,
          1137.34363269164,
          1189.17599946631,
          1208.21853383767,
          1209.92694225482,
          1319.1549945174,
          1505.01019279429,
          1577.47102705052,
          1606.46251377314,
          1625.23501955454,
          1636.89320864296,
          1666.93273443122,
          1773.92041088078,
          1829.59304417211,
          1953.53375721508,
          1983.06472288992,
          2045.53540189014,
          2065.74906750923,
          2081.79985458438,
          2166.04679858214,
          2256.59040870506,
          2304.84456746354,
          2360.54355385897,
          2363.29929621422,
          2457.92487986361,
          2672.94579035518,
          2771.71746050946,
          2996.62106154483,
          3150.43672926335,
          3266.36490519183,
          3345.19658873831,
          3460.53096344408,
          3690.62787797599,
          3756.48912117326,
          3795.38012695313,
          3807.13915027254,
          3857.31846401804,
          3978.4035281759,
          4013.68765683604,
          4091.20918670534,
          4103.25896599583,
          4136.14634699332,
          4332.70928089396,
          4426.00063706281,
          4551.18466141298,
          4566.14015433014,
          4646.6127232145,
          4775.3774539013,
          4835.57177734375,
          4865.55776470864,
          4869.13422621242,
          4966.51347122366,
          5023.27437961979,
          5025.5422907779,
          5183.58130458676,
          5230.66173289497,
          5269.78390114389,
          5387.99797495383,
          5632.00299343641,
          5891.49996504641,
          5965.13287054416,
          6104.1367093039,
          6172.14506539834,
          6228.26730928353,
          6357.19555043805,
          6492.87201224634,
          6621.57433601881,
          6694.64112581709,
          6805.22127398897,
          7055.04477598783,
          7066.19054595323,
          7143.3105484321,
          7302.25779418774,
          7506.66752306086,
          7507.16097080234,
          7653.17187042868,
          8476.75215730978,
          8635.32569443437,
          9010.57224466261,
          9106.23720230699,
          9230.17831602601,
          9465.70399879557,
          9661.23597511355,
          9998.54431136155,
          10045.6805004963,
          10366.2933584066,
          10373.7897924367,
          10636.1201956183,
          10648.1413901852,
          11109.2618387745,
          12083.8881491345,
          12221.4966064171,
          12472.4437294954,
          12556.3331200058,
          14617.6044816372,
          14653.3093943039,
          14858.2294290445,
          15743.3107582991,
          15781.3957017982,
          16032.5027680992,
          16265.0959767147,
          17225.4623044097,
          17313.1883484186,
          17685.3252834553,
          17717.5964802588,
          17999.9099495446,
          18082.6101907478,
          18728.1218948689,
          19509.4664633867,
          19914.6035133645,
          20192.5963039061,
          20908.5827016004,
          21148.1629405415,
          23185.8707917797,
          23723.3402510345,
          24567.5092651,
          26562.9691354026,
          27943.701219882,
          29291.4006234431,
          29342.1008575886,
          30103.513733191,
          31551.81640625,
          32640.710335631,
          33486.671983855,
          35657.4975631691,
          35904.8635462723,
          37159.5467662165,
          39312.6603730693,
          42137.3272710372,
          43658.9789781222,
          44315.5541834116,
          46510.2827819127,
          48781.0266328884,
          49800.5424137576,
          51203.5544731043,
          51247.0143531626,
          51987.9390529728,
          52170.7118623335,
          53637.7057109897,
          53654.7502964259,
          57767.8788108173,
          60443.1091649968,
          61028.7380600287,
          66838.357433014,
          68007.7566732954,
          68727.636664709,
          69010.3098011151,
          70248.6290002242,
          72794.0030226738,
          86568.7696368603,
          89154.2760934922,
          91991.6004583563,
          100172.079253421,
          114090.328338579,
          133590.146975586,
          234315.460503547
         ],
         "xaxis": "x",
         "y": [
          68.67658210534013,
          68.70117871359953,
          68.7142433356616,
          68.7166075067441,
          68.71976426866922,
          68.72173496114868,
          68.7231832517081,
          68.73823386027247,
          68.74561670465904,
          68.75243527836709,
          68.75410989634656,
          68.76515439486845,
          68.77238543017701,
          68.77693299458048,
          68.78552509744577,
          68.78721141803943,
          68.78874541845279,
          68.7894085043103,
          68.79408975934014,
          68.80212769672308,
          68.8223177860877,
          68.82318446592643,
          68.8295401751005,
          68.83819665885446,
          68.84137693789008,
          68.84166225786731,
          68.8599043509594,
          68.89094388483724,
          68.90304551309713,
          68.90788735902147,
          68.91102254078973,
          68.9129695659928,
          68.91798644411632,
          68.93585437376508,
          68.94515221747963,
          68.96585146074541,
          68.9707834046351,
          68.98121658474078,
          68.98459245350634,
          68.98727308312448,
          69.0013431005174,
          69.0164647192824,
          69.02452360926458,
          69.0338258541908,
          69.0342860886044,
          69.050089434632,
          69.08599991169977,
          69.10249569244924,
          69.1400566700722,
          69.1657453065664,
          69.18510638216445,
          69.19827200106978,
          69.21753390638182,
          69.25596221530198,
          69.26696165092935,
          69.27345680792598,
          69.27542067337649,
          69.28380108201402,
          69.3040234055534,
          69.3099161807733,
          69.32286299191955,
          69.32487541630141,
          69.33036791253552,
          69.3631957371135,
          69.3787762548346,
          69.3996831425666,
          69.40218084794888,
          69.41562050985387,
          69.4371254086002,
          69.44717841631302,
          69.4521863530256,
          69.45278365511366,
          69.46904688800976,
          69.47852648371347,
          69.47890524581362,
          69.50529922009372,
          69.51316208625515,
          69.51969584951813,
          69.53943869116519,
          69.58018978184101,
          69.6235281717067,
          69.63582554668416,
          69.6590404710034,
          69.67039849430617,
          69.67977142714058,
          69.7013036336445,
          69.72396285529538,
          69.7454573315109,
          69.75766015994033,
          69.77612806553147,
          69.8178508966692,
          69.8197123431482,
          69.83259209551345,
          69.85913775291321,
          69.89327606469111,
          69.89335847501931,
          69.91774364319059,
          70.05528915417322,
          70.08177239878162,
          70.14444203684577,
          70.16041896792575,
          70.18111827810813,
          70.22045324144092,
          70.25310888658505,
          70.30944249267905,
          70.31731467141327,
          70.37085997849667,
          70.37211195218477,
          70.4159235512804,
          70.41793120174952,
          70.4949425736049,
          70.65771416492511,
          70.68069604765587,
          70.72260653388685,
          70.73661683654655,
          71.08086818304629,
          71.08683123307986,
          71.12105477064864,
          71.26887152346886,
          71.27523206062325,
          71.31716925884896,
          71.3560144719262,
          71.516404514497,
          71.53105557370992,
          71.59320587732995,
          71.59859546511522,
          71.64574442072858,
          71.65955612447608,
          71.76736253825615,
          71.89785429436323,
          71.96551592182668,
          72.0119432842024,
          72.13151962241277,
          72.17153173405679,
          72.51184775678882,
          72.60161011825903,
          72.74259413675111,
          73.07585435664481,
          73.30644936130312,
          73.53152760329918,
          73.53999501045251,
          73.66715798983866,
          73.90903790658341,
          74.09089324516829,
          74.23217665011394,
          74.59472456234201,
          74.63603696513701,
          74.84558064576845,
          75.20517049508328,
          75.67691594361516,
          75.93104582618096,
          76.04069994679143,
          76.40723988389003,
          76.78647506990441,
          76.95674361720727,
          77.1910595833512,
          77.19831778453096,
          77.32205904941841,
          77.35258379589148,
          77.5975853115129,
          77.60043191463181,
          78.28736234784031,
          78.73415051400123,
          78.83195594584129,
          79.80221601398598,
          79.99751648269479,
          80.11774308700089,
          80.16495211034369,
          80.3717628484274,
          80.7968638083904,
          83.09737699793008,
          83.52918044489346,
          84.00303980724736,
          85.369255286021,
          87.69373137280482,
          90.95038110230847,
          107.77243833070088
         ],
         "yaxis": "y"
        }
       ],
       "layout": {
        "legend": {
         "tracegroupgap": 0
        },
        "template": {
         "data": {
          "bar": [
           {
            "error_x": {
             "color": "#2a3f5f"
            },
            "error_y": {
             "color": "#2a3f5f"
            },
            "marker": {
             "line": {
              "color": "#E5ECF6",
              "width": 0.5
             },
             "pattern": {
              "fillmode": "overlay",
              "size": 10,
              "solidity": 0.2
             }
            },
            "type": "bar"
           }
          ],
          "barpolar": [
           {
            "marker": {
             "line": {
              "color": "#E5ECF6",
              "width": 0.5
             },
             "pattern": {
              "fillmode": "overlay",
              "size": 10,
              "solidity": 0.2
             }
            },
            "type": "barpolar"
           }
          ],
          "carpet": [
           {
            "aaxis": {
             "endlinecolor": "#2a3f5f",
             "gridcolor": "white",
             "linecolor": "white",
             "minorgridcolor": "white",
             "startlinecolor": "#2a3f5f"
            },
            "baxis": {
             "endlinecolor": "#2a3f5f",
             "gridcolor": "white",
             "linecolor": "white",
             "minorgridcolor": "white",
             "startlinecolor": "#2a3f5f"
            },
            "type": "carpet"
           }
          ],
          "choropleth": [
           {
            "colorbar": {
             "outlinewidth": 0,
             "ticks": ""
            },
            "type": "choropleth"
           }
          ],
          "contour": [
           {
            "colorbar": {
             "outlinewidth": 0,
             "ticks": ""
            },
            "colorscale": [
             [
              0,
              "#0d0887"
             ],
             [
              0.1111111111111111,
              "#46039f"
             ],
             [
              0.2222222222222222,
              "#7201a8"
             ],
             [
              0.3333333333333333,
              "#9c179e"
             ],
             [
              0.4444444444444444,
              "#bd3786"
             ],
             [
              0.5555555555555556,
              "#d8576b"
             ],
             [
              0.6666666666666666,
              "#ed7953"
             ],
             [
              0.7777777777777778,
              "#fb9f3a"
             ],
             [
              0.8888888888888888,
              "#fdca26"
             ],
             [
              1,
              "#f0f921"
             ]
            ],
            "type": "contour"
           }
          ],
          "contourcarpet": [
           {
            "colorbar": {
             "outlinewidth": 0,
             "ticks": ""
            },
            "type": "contourcarpet"
           }
          ],
          "heatmap": [
           {
            "colorbar": {
             "outlinewidth": 0,
             "ticks": ""
            },
            "colorscale": [
             [
              0,
              "#0d0887"
             ],
             [
              0.1111111111111111,
              "#46039f"
             ],
             [
              0.2222222222222222,
              "#7201a8"
             ],
             [
              0.3333333333333333,
              "#9c179e"
             ],
             [
              0.4444444444444444,
              "#bd3786"
             ],
             [
              0.5555555555555556,
              "#d8576b"
             ],
             [
              0.6666666666666666,
              "#ed7953"
             ],
             [
              0.7777777777777778,
              "#fb9f3a"
             ],
             [
              0.8888888888888888,
              "#fdca26"
             ],
             [
              1,
              "#f0f921"
             ]
            ],
            "type": "heatmap"
           }
          ],
          "heatmapgl": [
           {
            "colorbar": {
             "outlinewidth": 0,
             "ticks": ""
            },
            "colorscale": [
             [
              0,
              "#0d0887"
             ],
             [
              0.1111111111111111,
              "#46039f"
             ],
             [
              0.2222222222222222,
              "#7201a8"
             ],
             [
              0.3333333333333333,
              "#9c179e"
             ],
             [
              0.4444444444444444,
              "#bd3786"
             ],
             [
              0.5555555555555556,
              "#d8576b"
             ],
             [
              0.6666666666666666,
              "#ed7953"
             ],
             [
              0.7777777777777778,
              "#fb9f3a"
             ],
             [
              0.8888888888888888,
              "#fdca26"
             ],
             [
              1,
              "#f0f921"
             ]
            ],
            "type": "heatmapgl"
           }
          ],
          "histogram": [
           {
            "marker": {
             "pattern": {
              "fillmode": "overlay",
              "size": 10,
              "solidity": 0.2
             }
            },
            "type": "histogram"
           }
          ],
          "histogram2d": [
           {
            "colorbar": {
             "outlinewidth": 0,
             "ticks": ""
            },
            "colorscale": [
             [
              0,
              "#0d0887"
             ],
             [
              0.1111111111111111,
              "#46039f"
             ],
             [
              0.2222222222222222,
              "#7201a8"
             ],
             [
              0.3333333333333333,
              "#9c179e"
             ],
             [
              0.4444444444444444,
              "#bd3786"
             ],
             [
              0.5555555555555556,
              "#d8576b"
             ],
             [
              0.6666666666666666,
              "#ed7953"
             ],
             [
              0.7777777777777778,
              "#fb9f3a"
             ],
             [
              0.8888888888888888,
              "#fdca26"
             ],
             [
              1,
              "#f0f921"
             ]
            ],
            "type": "histogram2d"
           }
          ],
          "histogram2dcontour": [
           {
            "colorbar": {
             "outlinewidth": 0,
             "ticks": ""
            },
            "colorscale": [
             [
              0,
              "#0d0887"
             ],
             [
              0.1111111111111111,
              "#46039f"
             ],
             [
              0.2222222222222222,
              "#7201a8"
             ],
             [
              0.3333333333333333,
              "#9c179e"
             ],
             [
              0.4444444444444444,
              "#bd3786"
             ],
             [
              0.5555555555555556,
              "#d8576b"
             ],
             [
              0.6666666666666666,
              "#ed7953"
             ],
             [
              0.7777777777777778,
              "#fb9f3a"
             ],
             [
              0.8888888888888888,
              "#fdca26"
             ],
             [
              1,
              "#f0f921"
             ]
            ],
            "type": "histogram2dcontour"
           }
          ],
          "mesh3d": [
           {
            "colorbar": {
             "outlinewidth": 0,
             "ticks": ""
            },
            "type": "mesh3d"
           }
          ],
          "parcoords": [
           {
            "line": {
             "colorbar": {
              "outlinewidth": 0,
              "ticks": ""
             }
            },
            "type": "parcoords"
           }
          ],
          "pie": [
           {
            "automargin": true,
            "type": "pie"
           }
          ],
          "scatter": [
           {
            "marker": {
             "colorbar": {
              "outlinewidth": 0,
              "ticks": ""
             }
            },
            "type": "scatter"
           }
          ],
          "scatter3d": [
           {
            "line": {
             "colorbar": {
              "outlinewidth": 0,
              "ticks": ""
             }
            },
            "marker": {
             "colorbar": {
              "outlinewidth": 0,
              "ticks": ""
             }
            },
            "type": "scatter3d"
           }
          ],
          "scattercarpet": [
           {
            "marker": {
             "colorbar": {
              "outlinewidth": 0,
              "ticks": ""
             }
            },
            "type": "scattercarpet"
           }
          ],
          "scattergeo": [
           {
            "marker": {
             "colorbar": {
              "outlinewidth": 0,
              "ticks": ""
             }
            },
            "type": "scattergeo"
           }
          ],
          "scattergl": [
           {
            "marker": {
             "colorbar": {
              "outlinewidth": 0,
              "ticks": ""
             }
            },
            "type": "scattergl"
           }
          ],
          "scattermapbox": [
           {
            "marker": {
             "colorbar": {
              "outlinewidth": 0,
              "ticks": ""
             }
            },
            "type": "scattermapbox"
           }
          ],
          "scatterpolar": [
           {
            "marker": {
             "colorbar": {
              "outlinewidth": 0,
              "ticks": ""
             }
            },
            "type": "scatterpolar"
           }
          ],
          "scatterpolargl": [
           {
            "marker": {
             "colorbar": {
              "outlinewidth": 0,
              "ticks": ""
             }
            },
            "type": "scatterpolargl"
           }
          ],
          "scatterternary": [
           {
            "marker": {
             "colorbar": {
              "outlinewidth": 0,
              "ticks": ""
             }
            },
            "type": "scatterternary"
           }
          ],
          "surface": [
           {
            "colorbar": {
             "outlinewidth": 0,
             "ticks": ""
            },
            "colorscale": [
             [
              0,
              "#0d0887"
             ],
             [
              0.1111111111111111,
              "#46039f"
             ],
             [
              0.2222222222222222,
              "#7201a8"
             ],
             [
              0.3333333333333333,
              "#9c179e"
             ],
             [
              0.4444444444444444,
              "#bd3786"
             ],
             [
              0.5555555555555556,
              "#d8576b"
             ],
             [
              0.6666666666666666,
              "#ed7953"
             ],
             [
              0.7777777777777778,
              "#fb9f3a"
             ],
             [
              0.8888888888888888,
              "#fdca26"
             ],
             [
              1,
              "#f0f921"
             ]
            ],
            "type": "surface"
           }
          ],
          "table": [
           {
            "cells": {
             "fill": {
              "color": "#EBF0F8"
             },
             "line": {
              "color": "white"
             }
            },
            "header": {
             "fill": {
              "color": "#C8D4E3"
             },
             "line": {
              "color": "white"
             }
            },
            "type": "table"
           }
          ]
         },
         "layout": {
          "annotationdefaults": {
           "arrowcolor": "#2a3f5f",
           "arrowhead": 0,
           "arrowwidth": 1
          },
          "autotypenumbers": "strict",
          "coloraxis": {
           "colorbar": {
            "outlinewidth": 0,
            "ticks": ""
           }
          },
          "colorscale": {
           "diverging": [
            [
             0,
             "#8e0152"
            ],
            [
             0.1,
             "#c51b7d"
            ],
            [
             0.2,
             "#de77ae"
            ],
            [
             0.3,
             "#f1b6da"
            ],
            [
             0.4,
             "#fde0ef"
            ],
            [
             0.5,
             "#f7f7f7"
            ],
            [
             0.6,
             "#e6f5d0"
            ],
            [
             0.7,
             "#b8e186"
            ],
            [
             0.8,
             "#7fbc41"
            ],
            [
             0.9,
             "#4d9221"
            ],
            [
             1,
             "#276419"
            ]
           ],
           "sequential": [
            [
             0,
             "#0d0887"
            ],
            [
             0.1111111111111111,
             "#46039f"
            ],
            [
             0.2222222222222222,
             "#7201a8"
            ],
            [
             0.3333333333333333,
             "#9c179e"
            ],
            [
             0.4444444444444444,
             "#bd3786"
            ],
            [
             0.5555555555555556,
             "#d8576b"
            ],
            [
             0.6666666666666666,
             "#ed7953"
            ],
            [
             0.7777777777777778,
             "#fb9f3a"
            ],
            [
             0.8888888888888888,
             "#fdca26"
            ],
            [
             1,
             "#f0f921"
            ]
           ],
           "sequentialminus": [
            [
             0,
             "#0d0887"
            ],
            [
             0.1111111111111111,
             "#46039f"
            ],
            [
             0.2222222222222222,
             "#7201a8"
            ],
            [
             0.3333333333333333,
             "#9c179e"
            ],
            [
             0.4444444444444444,
             "#bd3786"
            ],
            [
             0.5555555555555556,
             "#d8576b"
            ],
            [
             0.6666666666666666,
             "#ed7953"
            ],
            [
             0.7777777777777778,
             "#fb9f3a"
            ],
            [
             0.8888888888888888,
             "#fdca26"
            ],
            [
             1,
             "#f0f921"
            ]
           ]
          },
          "colorway": [
           "#636efa",
           "#EF553B",
           "#00cc96",
           "#ab63fa",
           "#FFA15A",
           "#19d3f3",
           "#FF6692",
           "#B6E880",
           "#FF97FF",
           "#FECB52"
          ],
          "font": {
           "color": "#2a3f5f"
          },
          "geo": {
           "bgcolor": "white",
           "lakecolor": "white",
           "landcolor": "#E5ECF6",
           "showlakes": true,
           "showland": true,
           "subunitcolor": "white"
          },
          "hoverlabel": {
           "align": "left"
          },
          "hovermode": "closest",
          "mapbox": {
           "style": "light"
          },
          "paper_bgcolor": "white",
          "plot_bgcolor": "#E5ECF6",
          "polar": {
           "angularaxis": {
            "gridcolor": "white",
            "linecolor": "white",
            "ticks": ""
           },
           "bgcolor": "#E5ECF6",
           "radialaxis": {
            "gridcolor": "white",
            "linecolor": "white",
            "ticks": ""
           }
          },
          "scene": {
           "xaxis": {
            "backgroundcolor": "#E5ECF6",
            "gridcolor": "white",
            "gridwidth": 2,
            "linecolor": "white",
            "showbackground": true,
            "ticks": "",
            "zerolinecolor": "white"
           },
           "yaxis": {
            "backgroundcolor": "#E5ECF6",
            "gridcolor": "white",
            "gridwidth": 2,
            "linecolor": "white",
            "showbackground": true,
            "ticks": "",
            "zerolinecolor": "white"
           },
           "zaxis": {
            "backgroundcolor": "#E5ECF6",
            "gridcolor": "white",
            "gridwidth": 2,
            "linecolor": "white",
            "showbackground": true,
            "ticks": "",
            "zerolinecolor": "white"
           }
          },
          "shapedefaults": {
           "line": {
            "color": "#2a3f5f"
           }
          },
          "ternary": {
           "aaxis": {
            "gridcolor": "white",
            "linecolor": "white",
            "ticks": ""
           },
           "baxis": {
            "gridcolor": "white",
            "linecolor": "white",
            "ticks": ""
           },
           "bgcolor": "#E5ECF6",
           "caxis": {
            "gridcolor": "white",
            "linecolor": "white",
            "ticks": ""
           }
          },
          "title": {
           "x": 0.05
          },
          "xaxis": {
           "automargin": true,
           "gridcolor": "white",
           "linecolor": "white",
           "ticks": "",
           "title": {
            "standoff": 15
           },
           "zerolinecolor": "white",
           "zerolinewidth": 2
          },
          "yaxis": {
           "automargin": true,
           "gridcolor": "white",
           "linecolor": "white",
           "ticks": "",
           "title": {
            "standoff": 15
           },
           "zerolinecolor": "white",
           "zerolinewidth": 2
          }
         }
        },
        "title": {
         "text": "Relationship between GDP Per Capita and Life Expectancy"
        },
        "xaxis": {
         "anchor": "y",
         "domain": [
          0,
          1
         ],
         "title": {
          "text": "gdp_per_capita"
         }
        },
        "yaxis": {
         "anchor": "x",
         "domain": [
          0,
          1
         ],
         "title": {
          "text": "life"
         }
        }
       }
      }
     },
     "metadata": {},
     "output_type": "display_data"
    }
   ],
   "source": [
    "create_graph(df1)"
   ]
  },
  {
   "attachments": {},
   "cell_type": "markdown",
   "metadata": {},
   "source": [
    "**Analysis:** Based on the graph and the regression line, it appears that there is a positive relationship between GDP Per Capita and life expectancy across all countries in the world. All the points follow along the regression line, which implies that as the GDP Per Capita of a country increase, its citizens tend to enjoy longer lifespans on average.\n",
    "\n",
    "We will discover this trend further by discovering the life expectancy in each region. We all know that Europe, North America, and Asia-Pacific are regions with the highest level of economic growth, while Africa, some of the parts in Asia and South America are regions with lower levels. Therefore, we will look into the life expectancy of each region for further analysis."
   ]
  },
  {
   "cell_type": "code",
   "execution_count": 8,
   "metadata": {},
   "outputs": [
    {
     "data": {
      "text/html": [
       "<div>\n",
       "<style scoped>\n",
       "    .dataframe tbody tr th:only-of-type {\n",
       "        vertical-align: middle;\n",
       "    }\n",
       "\n",
       "    .dataframe tbody tr th {\n",
       "        vertical-align: top;\n",
       "    }\n",
       "\n",
       "    .dataframe thead th {\n",
       "        text-align: right;\n",
       "    }\n",
       "</style>\n",
       "<table border=\"1\" class=\"dataframe\">\n",
       "  <thead>\n",
       "    <tr style=\"text-align: right;\">\n",
       "      <th></th>\n",
       "      <th>region</th>\n",
       "      <th>avg_life</th>\n",
       "    </tr>\n",
       "  </thead>\n",
       "  <tbody>\n",
       "    <tr>\n",
       "      <th>0</th>\n",
       "      <td>Sub-Saharan Africa</td>\n",
       "      <td>61.506522</td>\n",
       "    </tr>\n",
       "    <tr>\n",
       "      <th>1</th>\n",
       "      <td>South Asia</td>\n",
       "      <td>70.525000</td>\n",
       "    </tr>\n",
       "    <tr>\n",
       "      <th>2</th>\n",
       "      <td>Latin America &amp; Caribbean</td>\n",
       "      <td>72.907317</td>\n",
       "    </tr>\n",
       "    <tr>\n",
       "      <th>3</th>\n",
       "      <td>East Asia &amp; Pacific</td>\n",
       "      <td>73.537838</td>\n",
       "    </tr>\n",
       "    <tr>\n",
       "      <th>4</th>\n",
       "      <td>Middle East &amp; North Africa</td>\n",
       "      <td>74.455000</td>\n",
       "    </tr>\n",
       "    <tr>\n",
       "      <th>5</th>\n",
       "      <td>Europe &amp; Central Asia</td>\n",
       "      <td>77.392857</td>\n",
       "    </tr>\n",
       "    <tr>\n",
       "      <th>6</th>\n",
       "      <td>North America</td>\n",
       "      <td>79.733333</td>\n",
       "    </tr>\n",
       "  </tbody>\n",
       "</table>\n",
       "</div>"
      ],
      "text/plain": [
       "                       region   avg_life\n",
       "0          Sub-Saharan Africa  61.506522\n",
       "1                  South Asia  70.525000\n",
       "2   Latin America & Caribbean  72.907317\n",
       "3         East Asia & Pacific  73.537838\n",
       "4  Middle East & North Africa  74.455000\n",
       "5       Europe & Central Asia  77.392857\n",
       "6               North America  79.733333"
      ]
     },
     "execution_count": 8,
     "metadata": {},
     "output_type": "execute_result"
    }
   ],
   "source": [
    "query2 = \"\"\"\n",
    "SELECT region, AVG(life) AS avg_life\n",
    "FROM indicators\n",
    "WHERE life IS NOT NULL\n",
    "GROUP BY region\n",
    "ORDER BY avg_life ASC\n",
    "\"\"\"\n",
    "\n",
    "df2 = pd.read_sql_query(query2, con=connection)\n",
    "df2"
   ]
  },
  {
   "cell_type": "code",
   "execution_count": 9,
   "metadata": {},
   "outputs": [
    {
     "data": {
      "application/vnd.plotly.v1+json": {
       "config": {
        "plotlyServerURL": "https://plot.ly"
       },
       "data": [
        {
         "alignmentgroup": "True",
         "hovertemplate": "Regions=%{x}<br>Life Expectancy=%{marker.color}<extra></extra>",
         "legendgroup": "",
         "marker": {
          "color": [
           61.50652173913043,
           70.52499999999999,
           72.90731707317073,
           73.53783783783786,
           74.455,
           77.39285714285712,
           79.73333333333333
          ],
          "coloraxis": "coloraxis",
          "pattern": {
           "shape": ""
          }
         },
         "name": "",
         "offsetgroup": "",
         "orientation": "v",
         "showlegend": false,
         "textposition": "auto",
         "type": "bar",
         "x": [
          "Sub-Saharan Africa",
          "South Asia",
          "Latin America & Caribbean",
          "East Asia & Pacific",
          "Middle East & North Africa",
          "Europe & Central Asia",
          "North America"
         ],
         "xaxis": "x",
         "y": [
          61.50652173913043,
          70.52499999999999,
          72.90731707317073,
          73.53783783783786,
          74.455,
          77.39285714285712,
          79.73333333333333
         ],
         "yaxis": "y"
        }
       ],
       "layout": {
        "barmode": "relative",
        "coloraxis": {
         "colorbar": {
          "title": {
           "text": "Life Expectancy"
          }
         },
         "colorscale": [
          [
           0,
           "#0d0887"
          ],
          [
           0.1111111111111111,
           "#46039f"
          ],
          [
           0.2222222222222222,
           "#7201a8"
          ],
          [
           0.3333333333333333,
           "#9c179e"
          ],
          [
           0.4444444444444444,
           "#bd3786"
          ],
          [
           0.5555555555555556,
           "#d8576b"
          ],
          [
           0.6666666666666666,
           "#ed7953"
          ],
          [
           0.7777777777777778,
           "#fb9f3a"
          ],
          [
           0.8888888888888888,
           "#fdca26"
          ],
          [
           1,
           "#f0f921"
          ]
         ]
        },
        "height": 600,
        "legend": {
         "tracegroupgap": 0
        },
        "template": {
         "data": {
          "bar": [
           {
            "error_x": {
             "color": "#2a3f5f"
            },
            "error_y": {
             "color": "#2a3f5f"
            },
            "marker": {
             "line": {
              "color": "#E5ECF6",
              "width": 0.5
             },
             "pattern": {
              "fillmode": "overlay",
              "size": 10,
              "solidity": 0.2
             }
            },
            "type": "bar"
           }
          ],
          "barpolar": [
           {
            "marker": {
             "line": {
              "color": "#E5ECF6",
              "width": 0.5
             },
             "pattern": {
              "fillmode": "overlay",
              "size": 10,
              "solidity": 0.2
             }
            },
            "type": "barpolar"
           }
          ],
          "carpet": [
           {
            "aaxis": {
             "endlinecolor": "#2a3f5f",
             "gridcolor": "white",
             "linecolor": "white",
             "minorgridcolor": "white",
             "startlinecolor": "#2a3f5f"
            },
            "baxis": {
             "endlinecolor": "#2a3f5f",
             "gridcolor": "white",
             "linecolor": "white",
             "minorgridcolor": "white",
             "startlinecolor": "#2a3f5f"
            },
            "type": "carpet"
           }
          ],
          "choropleth": [
           {
            "colorbar": {
             "outlinewidth": 0,
             "ticks": ""
            },
            "type": "choropleth"
           }
          ],
          "contour": [
           {
            "colorbar": {
             "outlinewidth": 0,
             "ticks": ""
            },
            "colorscale": [
             [
              0,
              "#0d0887"
             ],
             [
              0.1111111111111111,
              "#46039f"
             ],
             [
              0.2222222222222222,
              "#7201a8"
             ],
             [
              0.3333333333333333,
              "#9c179e"
             ],
             [
              0.4444444444444444,
              "#bd3786"
             ],
             [
              0.5555555555555556,
              "#d8576b"
             ],
             [
              0.6666666666666666,
              "#ed7953"
             ],
             [
              0.7777777777777778,
              "#fb9f3a"
             ],
             [
              0.8888888888888888,
              "#fdca26"
             ],
             [
              1,
              "#f0f921"
             ]
            ],
            "type": "contour"
           }
          ],
          "contourcarpet": [
           {
            "colorbar": {
             "outlinewidth": 0,
             "ticks": ""
            },
            "type": "contourcarpet"
           }
          ],
          "heatmap": [
           {
            "colorbar": {
             "outlinewidth": 0,
             "ticks": ""
            },
            "colorscale": [
             [
              0,
              "#0d0887"
             ],
             [
              0.1111111111111111,
              "#46039f"
             ],
             [
              0.2222222222222222,
              "#7201a8"
             ],
             [
              0.3333333333333333,
              "#9c179e"
             ],
             [
              0.4444444444444444,
              "#bd3786"
             ],
             [
              0.5555555555555556,
              "#d8576b"
             ],
             [
              0.6666666666666666,
              "#ed7953"
             ],
             [
              0.7777777777777778,
              "#fb9f3a"
             ],
             [
              0.8888888888888888,
              "#fdca26"
             ],
             [
              1,
              "#f0f921"
             ]
            ],
            "type": "heatmap"
           }
          ],
          "heatmapgl": [
           {
            "colorbar": {
             "outlinewidth": 0,
             "ticks": ""
            },
            "colorscale": [
             [
              0,
              "#0d0887"
             ],
             [
              0.1111111111111111,
              "#46039f"
             ],
             [
              0.2222222222222222,
              "#7201a8"
             ],
             [
              0.3333333333333333,
              "#9c179e"
             ],
             [
              0.4444444444444444,
              "#bd3786"
             ],
             [
              0.5555555555555556,
              "#d8576b"
             ],
             [
              0.6666666666666666,
              "#ed7953"
             ],
             [
              0.7777777777777778,
              "#fb9f3a"
             ],
             [
              0.8888888888888888,
              "#fdca26"
             ],
             [
              1,
              "#f0f921"
             ]
            ],
            "type": "heatmapgl"
           }
          ],
          "histogram": [
           {
            "marker": {
             "pattern": {
              "fillmode": "overlay",
              "size": 10,
              "solidity": 0.2
             }
            },
            "type": "histogram"
           }
          ],
          "histogram2d": [
           {
            "colorbar": {
             "outlinewidth": 0,
             "ticks": ""
            },
            "colorscale": [
             [
              0,
              "#0d0887"
             ],
             [
              0.1111111111111111,
              "#46039f"
             ],
             [
              0.2222222222222222,
              "#7201a8"
             ],
             [
              0.3333333333333333,
              "#9c179e"
             ],
             [
              0.4444444444444444,
              "#bd3786"
             ],
             [
              0.5555555555555556,
              "#d8576b"
             ],
             [
              0.6666666666666666,
              "#ed7953"
             ],
             [
              0.7777777777777778,
              "#fb9f3a"
             ],
             [
              0.8888888888888888,
              "#fdca26"
             ],
             [
              1,
              "#f0f921"
             ]
            ],
            "type": "histogram2d"
           }
          ],
          "histogram2dcontour": [
           {
            "colorbar": {
             "outlinewidth": 0,
             "ticks": ""
            },
            "colorscale": [
             [
              0,
              "#0d0887"
             ],
             [
              0.1111111111111111,
              "#46039f"
             ],
             [
              0.2222222222222222,
              "#7201a8"
             ],
             [
              0.3333333333333333,
              "#9c179e"
             ],
             [
              0.4444444444444444,
              "#bd3786"
             ],
             [
              0.5555555555555556,
              "#d8576b"
             ],
             [
              0.6666666666666666,
              "#ed7953"
             ],
             [
              0.7777777777777778,
              "#fb9f3a"
             ],
             [
              0.8888888888888888,
              "#fdca26"
             ],
             [
              1,
              "#f0f921"
             ]
            ],
            "type": "histogram2dcontour"
           }
          ],
          "mesh3d": [
           {
            "colorbar": {
             "outlinewidth": 0,
             "ticks": ""
            },
            "type": "mesh3d"
           }
          ],
          "parcoords": [
           {
            "line": {
             "colorbar": {
              "outlinewidth": 0,
              "ticks": ""
             }
            },
            "type": "parcoords"
           }
          ],
          "pie": [
           {
            "automargin": true,
            "type": "pie"
           }
          ],
          "scatter": [
           {
            "marker": {
             "colorbar": {
              "outlinewidth": 0,
              "ticks": ""
             }
            },
            "type": "scatter"
           }
          ],
          "scatter3d": [
           {
            "line": {
             "colorbar": {
              "outlinewidth": 0,
              "ticks": ""
             }
            },
            "marker": {
             "colorbar": {
              "outlinewidth": 0,
              "ticks": ""
             }
            },
            "type": "scatter3d"
           }
          ],
          "scattercarpet": [
           {
            "marker": {
             "colorbar": {
              "outlinewidth": 0,
              "ticks": ""
             }
            },
            "type": "scattercarpet"
           }
          ],
          "scattergeo": [
           {
            "marker": {
             "colorbar": {
              "outlinewidth": 0,
              "ticks": ""
             }
            },
            "type": "scattergeo"
           }
          ],
          "scattergl": [
           {
            "marker": {
             "colorbar": {
              "outlinewidth": 0,
              "ticks": ""
             }
            },
            "type": "scattergl"
           }
          ],
          "scattermapbox": [
           {
            "marker": {
             "colorbar": {
              "outlinewidth": 0,
              "ticks": ""
             }
            },
            "type": "scattermapbox"
           }
          ],
          "scatterpolar": [
           {
            "marker": {
             "colorbar": {
              "outlinewidth": 0,
              "ticks": ""
             }
            },
            "type": "scatterpolar"
           }
          ],
          "scatterpolargl": [
           {
            "marker": {
             "colorbar": {
              "outlinewidth": 0,
              "ticks": ""
             }
            },
            "type": "scatterpolargl"
           }
          ],
          "scatterternary": [
           {
            "marker": {
             "colorbar": {
              "outlinewidth": 0,
              "ticks": ""
             }
            },
            "type": "scatterternary"
           }
          ],
          "surface": [
           {
            "colorbar": {
             "outlinewidth": 0,
             "ticks": ""
            },
            "colorscale": [
             [
              0,
              "#0d0887"
             ],
             [
              0.1111111111111111,
              "#46039f"
             ],
             [
              0.2222222222222222,
              "#7201a8"
             ],
             [
              0.3333333333333333,
              "#9c179e"
             ],
             [
              0.4444444444444444,
              "#bd3786"
             ],
             [
              0.5555555555555556,
              "#d8576b"
             ],
             [
              0.6666666666666666,
              "#ed7953"
             ],
             [
              0.7777777777777778,
              "#fb9f3a"
             ],
             [
              0.8888888888888888,
              "#fdca26"
             ],
             [
              1,
              "#f0f921"
             ]
            ],
            "type": "surface"
           }
          ],
          "table": [
           {
            "cells": {
             "fill": {
              "color": "#EBF0F8"
             },
             "line": {
              "color": "white"
             }
            },
            "header": {
             "fill": {
              "color": "#C8D4E3"
             },
             "line": {
              "color": "white"
             }
            },
            "type": "table"
           }
          ]
         },
         "layout": {
          "annotationdefaults": {
           "arrowcolor": "#2a3f5f",
           "arrowhead": 0,
           "arrowwidth": 1
          },
          "autotypenumbers": "strict",
          "coloraxis": {
           "colorbar": {
            "outlinewidth": 0,
            "ticks": ""
           }
          },
          "colorscale": {
           "diverging": [
            [
             0,
             "#8e0152"
            ],
            [
             0.1,
             "#c51b7d"
            ],
            [
             0.2,
             "#de77ae"
            ],
            [
             0.3,
             "#f1b6da"
            ],
            [
             0.4,
             "#fde0ef"
            ],
            [
             0.5,
             "#f7f7f7"
            ],
            [
             0.6,
             "#e6f5d0"
            ],
            [
             0.7,
             "#b8e186"
            ],
            [
             0.8,
             "#7fbc41"
            ],
            [
             0.9,
             "#4d9221"
            ],
            [
             1,
             "#276419"
            ]
           ],
           "sequential": [
            [
             0,
             "#0d0887"
            ],
            [
             0.1111111111111111,
             "#46039f"
            ],
            [
             0.2222222222222222,
             "#7201a8"
            ],
            [
             0.3333333333333333,
             "#9c179e"
            ],
            [
             0.4444444444444444,
             "#bd3786"
            ],
            [
             0.5555555555555556,
             "#d8576b"
            ],
            [
             0.6666666666666666,
             "#ed7953"
            ],
            [
             0.7777777777777778,
             "#fb9f3a"
            ],
            [
             0.8888888888888888,
             "#fdca26"
            ],
            [
             1,
             "#f0f921"
            ]
           ],
           "sequentialminus": [
            [
             0,
             "#0d0887"
            ],
            [
             0.1111111111111111,
             "#46039f"
            ],
            [
             0.2222222222222222,
             "#7201a8"
            ],
            [
             0.3333333333333333,
             "#9c179e"
            ],
            [
             0.4444444444444444,
             "#bd3786"
            ],
            [
             0.5555555555555556,
             "#d8576b"
            ],
            [
             0.6666666666666666,
             "#ed7953"
            ],
            [
             0.7777777777777778,
             "#fb9f3a"
            ],
            [
             0.8888888888888888,
             "#fdca26"
            ],
            [
             1,
             "#f0f921"
            ]
           ]
          },
          "colorway": [
           "#636efa",
           "#EF553B",
           "#00cc96",
           "#ab63fa",
           "#FFA15A",
           "#19d3f3",
           "#FF6692",
           "#B6E880",
           "#FF97FF",
           "#FECB52"
          ],
          "font": {
           "color": "#2a3f5f"
          },
          "geo": {
           "bgcolor": "white",
           "lakecolor": "white",
           "landcolor": "#E5ECF6",
           "showlakes": true,
           "showland": true,
           "subunitcolor": "white"
          },
          "hoverlabel": {
           "align": "left"
          },
          "hovermode": "closest",
          "mapbox": {
           "style": "light"
          },
          "paper_bgcolor": "white",
          "plot_bgcolor": "#E5ECF6",
          "polar": {
           "angularaxis": {
            "gridcolor": "white",
            "linecolor": "white",
            "ticks": ""
           },
           "bgcolor": "#E5ECF6",
           "radialaxis": {
            "gridcolor": "white",
            "linecolor": "white",
            "ticks": ""
           }
          },
          "scene": {
           "xaxis": {
            "backgroundcolor": "#E5ECF6",
            "gridcolor": "white",
            "gridwidth": 2,
            "linecolor": "white",
            "showbackground": true,
            "ticks": "",
            "zerolinecolor": "white"
           },
           "yaxis": {
            "backgroundcolor": "#E5ECF6",
            "gridcolor": "white",
            "gridwidth": 2,
            "linecolor": "white",
            "showbackground": true,
            "ticks": "",
            "zerolinecolor": "white"
           },
           "zaxis": {
            "backgroundcolor": "#E5ECF6",
            "gridcolor": "white",
            "gridwidth": 2,
            "linecolor": "white",
            "showbackground": true,
            "ticks": "",
            "zerolinecolor": "white"
           }
          },
          "shapedefaults": {
           "line": {
            "color": "#2a3f5f"
           }
          },
          "ternary": {
           "aaxis": {
            "gridcolor": "white",
            "linecolor": "white",
            "ticks": ""
           },
           "baxis": {
            "gridcolor": "white",
            "linecolor": "white",
            "ticks": ""
           },
           "bgcolor": "#E5ECF6",
           "caxis": {
            "gridcolor": "white",
            "linecolor": "white",
            "ticks": ""
           }
          },
          "title": {
           "x": 0.05
          },
          "xaxis": {
           "automargin": true,
           "gridcolor": "white",
           "linecolor": "white",
           "ticks": "",
           "title": {
            "standoff": 15
           },
           "zerolinecolor": "white",
           "zerolinewidth": 2
          },
          "yaxis": {
           "automargin": true,
           "gridcolor": "white",
           "linecolor": "white",
           "ticks": "",
           "title": {
            "standoff": 15
           },
           "zerolinecolor": "white",
           "zerolinewidth": 2
          }
         }
        },
        "title": {
         "text": "Average Life Expectancy by Region"
        },
        "xaxis": {
         "anchor": "y",
         "domain": [
          0,
          1
         ],
         "title": {
          "text": "Regions"
         }
        },
        "yaxis": {
         "anchor": "x",
         "domain": [
          0,
          1
         ],
         "title": {
          "text": "Life Expectancy"
         }
        }
       }
      }
     },
     "metadata": {},
     "output_type": "display_data"
    }
   ],
   "source": [
    "fig = px.bar(df2, x=\"region\", y=\"avg_life\", \n",
    "             hover_data=['region', 'avg_life'], color='avg_life',\n",
    "             labels={'region': 'Regions', 'avg_life':'Life Expectancy'},\n",
    "             title=\"Average Life Expectancy by Region\",height=600)\n",
    "fig.show()"
   ]
  },
  {
   "attachments": {},
   "cell_type": "markdown",
   "metadata": {},
   "source": [
    "**Analysis:** From the bar chart above, we can clearly see that regions with higher economic growth will have a longer average life expectancy than regions with low economic growth. In deed, North America, Europe & Central Asia are two regions with highest average lifespan, while the lowest figure belongs to Sub-Saharan Africa.\n",
    "\n",
    "We will try to group each country by its income level to see the difference if there is any difference from grouping by region. "
   ]
  },
  {
   "cell_type": "code",
   "execution_count": 10,
   "metadata": {},
   "outputs": [
    {
     "data": {
      "text/html": [
       "<div>\n",
       "<style scoped>\n",
       "    .dataframe tbody tr th:only-of-type {\n",
       "        vertical-align: middle;\n",
       "    }\n",
       "\n",
       "    .dataframe tbody tr th {\n",
       "        vertical-align: top;\n",
       "    }\n",
       "\n",
       "    .dataframe thead th {\n",
       "        text-align: right;\n",
       "    }\n",
       "</style>\n",
       "<table border=\"1\" class=\"dataframe\">\n",
       "  <thead>\n",
       "    <tr style=\"text-align: right;\">\n",
       "      <th></th>\n",
       "      <th>low_high_group</th>\n",
       "      <th>avg_life</th>\n",
       "    </tr>\n",
       "  </thead>\n",
       "  <tbody>\n",
       "    <tr>\n",
       "      <th>0</th>\n",
       "      <td>0</td>\n",
       "      <td>68.562791</td>\n",
       "    </tr>\n",
       "    <tr>\n",
       "      <th>1</th>\n",
       "      <td>1</td>\n",
       "      <td>80.441667</td>\n",
       "    </tr>\n",
       "  </tbody>\n",
       "</table>\n",
       "</div>"
      ],
      "text/plain": [
       "   low_high_group   avg_life\n",
       "0               0  68.562791\n",
       "1               1  80.441667"
      ]
     },
     "execution_count": 10,
     "metadata": {},
     "output_type": "execute_result"
    }
   ],
   "source": [
    "query3 = \"\"\"\n",
    "SELECT low_high_group, AVG(life) AS avg_life\n",
    "FROM (SELECT life, country_and_area, gdp_per_capita > (SELECT AVG(gdp_per_capita) AS avg\n",
    "                        FROM indicators WHERE gdp_per_capita IS NOT NULL) AS low_high_group\n",
    "FROM indicators)\n",
    "WHERE low_high_group IS NOT NULL AND life IS NOT NULL\n",
    "GROUP BY low_high_group\n",
    "\"\"\"\n",
    "\n",
    "df3 = pd.read_sql_query(query3, con=connection)\n",
    "df3.head()"
   ]
  },
  {
   "attachments": {},
   "cell_type": "markdown",
   "metadata": {},
   "source": [
    "**Analysis:** The table above shows the average life expectancy of two groups: countries below and above average GDP per capita. The average lifespan for low group is 68.5 years, while this figure for the high group is 80.4 years. Hence, citizens of countries in the above GDP per capita group lives longer "
   ]
  },
  {
   "cell_type": "code",
   "execution_count": 11,
   "metadata": {},
   "outputs": [],
   "source": [
    "# Close the connection!\n",
    "try:\n",
    "    connection.close()\n",
    "except:\n",
    "    pass\n",
    "del engine"
   ]
  },
  {
   "attachments": {},
   "cell_type": "markdown",
   "metadata": {},
   "source": [
    "## <b> Part 2: Conclusion </b>\n",
    "In conclusion, from the scatterplot, the bar graph, and the table above, there is a relationship between GDP per capita and life expectancy. Economic growth can directly affects human well-being in a positive way. Indeed, in a country that has a high GDP per capita, its citizens will have a longer lifespan than those people who are in a country that has a lower GDP per capita.\n",
    "\n",
    "---\n",
    "---\n",
    "\n",
    "## <b> Reference: </b>\n",
    "\n",
    "- GDP Per Capita dataset: https://data.worldbank.org/indicator/NY.GDP.PCAP.CD?end=2019&start=1960\n",
    "- Life Expectancy dataset: https://en.wikipedia.org/wiki/List_of_countries_by_life_expectancy#World_Health_Organization_(2019)\n",
    "- Countries dataset: http://datasystems.denison.edu/data.html\n"
   ]
  }
 ],
 "metadata": {
  "kernelspec": {
   "display_name": "base",
   "language": "python",
   "name": "python3"
  },
  "language_info": {
   "codemirror_mode": {
    "name": "ipython",
    "version": 3
   },
   "file_extension": ".py",
   "mimetype": "text/x-python",
   "name": "python",
   "nbconvert_exporter": "python",
   "pygments_lexer": "ipython3",
   "version": "3.9.12"
  },
  "orig_nbformat": 4
 },
 "nbformat": 4,
 "nbformat_minor": 2
}
